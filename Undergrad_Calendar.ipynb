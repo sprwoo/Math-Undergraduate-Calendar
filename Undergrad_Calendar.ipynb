{
  "nbformat": 4,
  "nbformat_minor": 0,
  "metadata": {
    "colab": {
      "provenance": [],
      "authorship_tag": "ABX9TyOxx+z5GYqk+pPZzwY5py7n"
    },
    "kernelspec": {
      "name": "python3",
      "display_name": "Python 3"
    },
    "language_info": {
      "name": "python"
    }
  },
  "cells": [
    {
      "cell_type": "code",
      "source": [
        "# Things to do:\n",
        "# Make a database containing the links for every math major\n",
        "# Generalize it for every year before 23-24\n",
        "#"
      ],
      "metadata": {
        "id": "zlW9qDI-3PzS"
      },
      "execution_count": null,
      "outputs": []
    },
    {
      "cell_type": "code",
      "execution_count": 3,
      "metadata": {
        "id": "54uD6L38mhxm"
      },
      "outputs": [],
      "source": [
        "from bs4 import BeautifulSoup\n",
        "import requests\n",
        "import pandas as pd"
      ]
    },
    {
      "cell_type": "code",
      "source": [
        "# Get the academic list for a specific year\n",
        "\n",
        "# Set up the URL\n",
        "year = \"2019-2020\"\n",
        "url_for_list = \"https://academic-calendar-archive.uwaterloo.ca/undergraduate-studies/\" + year + \"/page/MATH-List-of-Academic-Programs-or-Plans.html\"\n",
        "print(url_for_list)\n",
        "\n",
        "# Webscrape for BeautifulSoup\n",
        "listpage = requests.get(url_for_list)\n",
        "listsoup = BeautifulSoup(listpage.text, 'html')\n",
        "\n",
        "# Get all the names\n",
        "major_names = listsoup.find_all('a')\n",
        "\n",
        "# Remove everything before \"Amendments\"\n",
        "i = 0;\n",
        "for name in major_names:\n",
        "  if \"Amendments\" in name.get_text():\n",
        "    break\n",
        "  i += 1\n",
        "major_names = major_names[i + 1:]\n",
        "\n",
        "# Print out all the names\n",
        "for name in major_names:\n",
        "  print(name.get_text());"
      ],
      "metadata": {
        "id": "rgTZ27BW5yOZ"
      },
      "execution_count": null,
      "outputs": []
    },
    {
      "cell_type": "code",
      "source": [
        "# Get the choices and setup the URLS\n",
        "\n",
        "# Link header to the academic calendar\n",
        "link_header = \"https://academic-calendar-archive.uwaterloo.ca\"\n",
        "\n",
        "# Random choices\n",
        "choice1 = major_names[5]\n",
        "choice2 = major_names[7]\n",
        "\n",
        "# Make URL\n",
        "choice1_url = link_header + choice1.get('href')\n",
        "choice2_url = link_header + choice2.get('href')"
      ],
      "metadata": {
        "id": "Mq9lt41hX5nZ"
      },
      "execution_count": 82,
      "outputs": []
    },
    {
      "cell_type": "code",
      "source": [
        "# Function that filters out invalid course codes\n",
        "import re\n",
        "\n",
        "def is_valid_course(course_code):\n",
        "    pattern = r'^[A-Za-z]{2,}\\s\\d{3}$'\n",
        "    return re.match(pattern, course_code, re.IGNORECASE) is not None"
      ],
      "metadata": {
        "id": "YITnQb-fc9Of"
      },
      "execution_count": 83,
      "outputs": []
    },
    {
      "cell_type": "code",
      "source": [
        "# Get all the course names from choice1\n",
        "\n",
        "# Setup BeautifulSoup\n",
        "choice1_page = requests.get(choice1_url)\n",
        "choice1_soup = BeautifulSoup(choice1_page.text, 'html')\n",
        "choice1_courses = choice1_soup.find_all('a')\n",
        "\n",
        "# Filter out invalid courses\n",
        "tmp = []\n",
        "for course in choice1_courses:\n",
        "  if is_valid_course(course.get_text()):\n",
        "    tmp.append(course)\n",
        "choice1_courses = tmp\n",
        "\n",
        "for name in choice1_courses:\n",
        "  print(name.get_text())\n",
        "  print(name.get('href'))"
      ],
      "metadata": {
        "id": "UVWV4l5Pmvrg",
        "colab": {
          "base_uri": "https://localhost:8080/"
        },
        "outputId": "e821ac2d-f9f9-4873-e57a-31f663cd5e4f"
      },
      "execution_count": 92,
      "outputs": [
        {
          "output_type": "stream",
          "name": "stdout",
          "text": [
            "AMATH 250\n",
            "https://ucalendar.uwaterloo.ca/1920/COURSE/course-AMATH.html#AMATH250\n",
            "MATH 237\n",
            "https://ucalendar.uwaterloo.ca/1920/COURSE/course-MATH.html#MATH237\n",
            "MATH 247\n",
            "https://ucalendar.uwaterloo.ca/1920/COURSE/course-MATH.html#MATH247\n",
            "AMATH 231\n",
            "https://ucalendar.uwaterloo.ca/1920/COURSE/course-AMATH.html#AMATH231\n",
            "AMATH 242\n",
            "https://ucalendar.uwaterloo.ca/1920/COURSE/course-AMATH.html#AMATH242\n",
            "CS 371\n",
            "https://ucalendar.uwaterloo.ca/1920/COURSE/course-CS.html#CS371\n",
            "AMATH 251\n",
            "https://ucalendar.uwaterloo.ca/1920/COURSE/course-AMATH.html#AMATH251\n",
            "AMATH 332\n",
            "https://ucalendar.uwaterloo.ca/1920/COURSE/course-AMATH.html#AMATH332\n",
            "PMATH 332\n",
            "https://ucalendar.uwaterloo.ca/1920/COURSE/course-PMATH.html#PMATH332\n",
            "AMATH 351\n",
            "https://ucalendar.uwaterloo.ca/1920/COURSE/course-AMATH.html#AMATH351\n",
            "AMATH 353\n",
            "https://ucalendar.uwaterloo.ca/1920/COURSE/course-AMATH.html#AMATH353\n",
            "PHYS 121\n",
            "https://ucalendar.uwaterloo.ca/1920/COURSE/course-PHYS.html#PHYS121\n",
            "AMATH 331\n",
            "https://ucalendar.uwaterloo.ca/1920/COURSE/course-AMATH.html#AMATH331\n",
            "PMATH 331\n",
            "https://ucalendar.uwaterloo.ca/1920/COURSE/course-PMATH.html#PMATH331\n"
          ]
        }
      ]
    },
    {
      "cell_type": "code",
      "source": [
        "# Get all the course names from choice2\n",
        "\n",
        "# Setup BeautifulSoup\n",
        "choice2_page = requests.get(choice2_url)\n",
        "choice2_soup = BeautifulSoup(choice2_page.text, 'html')\n",
        "choice2_courses = choice2_soup.find_all('a')\n",
        "\n",
        "# Filter out invalid courses\n",
        "tmp = []\n",
        "for course in choice2_courses:\n",
        "  if is_valid_course(course.get_text()):\n",
        "    tmp.append(course)\n",
        "choice2_courses = tmp\n",
        "\n",
        "for name in choice2_courses:\n",
        "  print(name.get_text())\n",
        "  print(name.get('href'))"
      ],
      "metadata": {
        "colab": {
          "base_uri": "https://localhost:8080/"
        },
        "id": "L7rYTU89cQNx",
        "outputId": "e33a0234-ed25-4eb2-e3f6-a09e8e7f88ee"
      },
      "execution_count": 91,
      "outputs": [
        {
          "output_type": "stream",
          "name": "stdout",
          "text": [
            "AMATH 250\n",
            "https://ucalendar.uwaterloo.ca/1920/COURSE/course-AMATH.html#AMATH250\n",
            "MATH 237\n",
            "https://ucalendar.uwaterloo.ca/1920/COURSE/course-MATH.html#MATH237\n",
            "MATH 247\n",
            "https://ucalendar.uwaterloo.ca/1920/COURSE/course-MATH.html#MATH247\n",
            "AMATH 231\n",
            "https://ucalendar.uwaterloo.ca/1920/COURSE/course-AMATH.html#AMATH231\n",
            "AMATH 242\n",
            "https://ucalendar.uwaterloo.ca/1920/COURSE/course-AMATH.html#AMATH242\n",
            "CS 371\n",
            "https://ucalendar.uwaterloo.ca/1920/COURSE/course-CS.html#CS371\n",
            "AMATH 251\n",
            "https://ucalendar.uwaterloo.ca/1920/COURSE/course-AMATH.html#AMATH251\n",
            "AMATH 271\n",
            "https://ucalendar.uwaterloo.ca/1920/COURSE/course-AMATH.html#AMATH271\n",
            "AMATH 331\n",
            "https://ucalendar.uwaterloo.ca/1920/COURSE/course-AMATH.html#AMATH331\n",
            "PMATH 331\n",
            "https://ucalendar.uwaterloo.ca/1920/COURSE/course-PMATH.html#PMATH331\n",
            "AMATH 332\n",
            "https://ucalendar.uwaterloo.ca/1920/COURSE/course-AMATH.html#AMATH332\n",
            "PMATH 332\n",
            "https://ucalendar.uwaterloo.ca/1920/COURSE/course-PMATH.html#PMATH332\n",
            "AMATH 351\n",
            "https://ucalendar.uwaterloo.ca/1920/COURSE/course-AMATH.html#AMATH351\n",
            "AMATH 353\n",
            "https://ucalendar.uwaterloo.ca/1920/COURSE/course-AMATH.html#AMATH353\n",
            "AMATH 361\n",
            "https://ucalendar.uwaterloo.ca/1920/COURSE/course-AMATH.html#AMATH361\n",
            "AMATH 373\n",
            "https://ucalendar.uwaterloo.ca/1920/COURSE/course-AMATH.html#AMATH373\n",
            "AMATH 473\n",
            "https://ucalendar.uwaterloo.ca/1920/COURSE/course-AMATH.html#AMATH473\n",
            "PHYS 454\n",
            "https://ucalendar.uwaterloo.ca/1920/COURSE/course-PHYS.html#PHYS454\n",
            "AMATH 475\n",
            "https://ucalendar.uwaterloo.ca/1920/COURSE/course-AMATH.html#AMATH475\n",
            "PHYS 476\n",
            "https://ucalendar.uwaterloo.ca/1920/COURSE/course-PHYS.html#PHYS476\n",
            "PHYS 121\n",
            "https://ucalendar.uwaterloo.ca/1920/COURSE/course-PHYS.html#PHYS121\n",
            "PHYS 122\n",
            "https://ucalendar.uwaterloo.ca/1920/COURSE/course-PHYS.html#PHYS122\n",
            "PHYS 234\n",
            "https://ucalendar.uwaterloo.ca/1920/COURSE/course-PHYS.html#PHYS234\n",
            "PHYS 242\n",
            "https://ucalendar.uwaterloo.ca/1920/COURSE/course-PHYS.html#PHYS242\n",
            "PHYS 342\n",
            "https://ucalendar.uwaterloo.ca/1920/COURSE/course-PHYS.html#PHYS342\n",
            "PHYS 358\n",
            "https://ucalendar.uwaterloo.ca/1920/COURSE/course-PHYS.html#PHYS358\n",
            "ECE 403\n",
            "https://ucalendar.uwaterloo.ca/1920/COURSE/course-ECE.html#ECE403\n",
            "PHYS 359\n",
            "https://ucalendar.uwaterloo.ca/1920/COURSE/course-PHYS.html#PHYS359\n",
            "PHYS 363\n",
            "https://ucalendar.uwaterloo.ca/1920/COURSE/course-PHYS.html#PHYS363\n"
          ]
        }
      ]
    },
    {
      "cell_type": "code",
      "source": [],
      "metadata": {
        "id": "Scd5cRkd81rI"
      },
      "execution_count": null,
      "outputs": []
    }
  ]
}