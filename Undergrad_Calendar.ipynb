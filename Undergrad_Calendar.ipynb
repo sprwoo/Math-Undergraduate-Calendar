{
  "cells": [
    {
      "cell_type": "code",
      "execution_count": 1,
      "metadata": {
        "id": "zlW9qDI-3PzS"
      },
      "outputs": [],
      "source": [
        "# Things to do:\n",
        "# Make a database containing the links for every math major\n",
        "# Generalize it for every year before 23-24\n",
        "#"
      ]
    },
    {
      "cell_type": "code",
      "execution_count": 2,
      "metadata": {
        "id": "54uD6L38mhxm"
      },
      "outputs": [],
      "source": [
        "from bs4 import BeautifulSoup\n",
        "import requests\n",
        "import pandas as pd"
      ]
    },
    {
      "cell_type": "code",
      "execution_count": 3,
      "metadata": {
        "id": "rgTZ27BW5yOZ"
      },
      "outputs": [
        {
          "name": "stdout",
          "output_type": "stream",
          "text": [
            "https://academic-calendar-archive.uwaterloo.ca/undergraduate-studies/2019-2020/page/MATH-List-of-Academic-Programs-or-Plans.html\n",
            "Actuarial Science \n",
            "Joint Actuarial Science\n",
            "Actuarial Science/Finance Option\n",
            "\n",
            "Actuarial Science/Predictive Analytics Option\n",
            "Applied Mathematics\n",
            "Joint Applied Mathematics\n",
            "Applied Mathematics/Scientific Computing\n",
            "Mathematical Physics\n",
            "Biology Specialization\n",
            "Economics Specialization\n",
            "Engineering Specialization: Fluids and Heat\n",
            "Engineering Specialization: Communication and Control\n",
            "Engineering Specialization: Heat and Mass Transfer\n",
            "Physics Specialization\n",
            "Combinatorics and Optimization\n",
            "Joint Combinatorics and Optimization\n",
            "Mathematical Optimization\n",
            "Computer Science\n",
            "Joint Computer Science\n",
            "Artificial Intelligence Specialization\n",
            "Bioinformatics Specialization\n",
            "Business Specialization\n",
            "Computational Fine Art Specialization\n",
            "Digital Hardware Specialization\n",
            "Human-Computer Interaction Specialization\n",
            "Software Engineering Specialization\n",
            "Pure Mathematics \n",
            "Joint Pure Mathematics\n",
            "Pure Mathematics/Teaching\n",
            "Statistics\n",
            "Joint Statistics\n",
            "Biostatistics\n",
            "Data Science\n",
            "Mathematical Finance\n",
            "Information Technology Management\n",
            "Mathematical Economics\n",
            "Mathematics/Business Administration\n",
            "Mathematics/Chartered Professional Accountancy\n",
            "Mathematics/Chartered Professional Accountancy â Finance Option\n",
            "Mathematics/Financial Analysis and Risk Management\n",
            "Mathematics/Teaching\n",
            "Computational Mathematics\n",
            "Mathematical Studies\n",
            "Mathematical Studies - Business Specialization\n",
            "Computer Science\n",
            "Joint Computer Science\n",
            "Artificial Intelligence Specialization\n",
            "Bioinformatics Specialization\n",
            "Business Specialization\n",
            "Computational Fine Art Specialization\n",
            "Digital Hardware Specialization\n",
            "Human-Computer Interaction Specialization\n",
            "Software Engineering Specialization\n",
            "Data Science\n",
            "Business Administration and Mathematics\n",
            "Business Administration and Computer Science\n",
            "Computing and Financial Management\n",
            "Software Engineering\n"
          ]
        }
      ],
      "source": [
        "# Get the academic list for a specific year\n",
        "\n",
        "# Set up the URL\n",
        "year = \"2019-2020\"\n",
        "url_for_list = \"https://academic-calendar-archive.uwaterloo.ca/undergraduate-studies/\" + year + \"/page/MATH-List-of-Academic-Programs-or-Plans.html\"\n",
        "print(url_for_list)\n",
        "\n",
        "# Webscrape for BeautifulSoup\n",
        "listpage = requests.get(url_for_list)\n",
        "listsoup = BeautifulSoup(listpage.text, 'html')\n",
        "\n",
        "# Get all the names\n",
        "major_names = listsoup.find_all('a')\n",
        "\n",
        "# Remove everything before \"Amendments\"\n",
        "i = 0;\n",
        "for name in major_names:\n",
        "  if \"Amendments\" in name.get_text():\n",
        "    break\n",
        "  i += 1\n",
        "major_names = major_names[i + 1:]\n",
        "\n",
        "# Print out all the names\n",
        "for name in major_names:\n",
        "  print(name.get_text());"
      ]
    },
    {
      "cell_type": "code",
      "execution_count": 4,
      "metadata": {
        "id": "Mq9lt41hX5nZ"
      },
      "outputs": [],
      "source": [
        "# Get the choices and setup the URLS\n",
        "\n",
        "# Link header to the academic calendar\n",
        "link_header = \"https://academic-calendar-archive.uwaterloo.ca\"\n",
        "\n",
        "# Random choices\n",
        "choice1 = major_names[5]\n",
        "choice2 = major_names[7]\n",
        "\n",
        "# Make URL\n",
        "choice1_url = link_header + choice1.get('href')\n",
        "choice2_url = link_header + choice2.get('href')"
      ]
    },
    {
      "cell_type": "code",
      "execution_count": 5,
      "metadata": {
        "id": "YITnQb-fc9Of"
      },
      "outputs": [],
      "source": [
        "# Function that filters out invalid course codes\n",
        "import re\n",
        "\n",
        "def is_valid_course(course_code):\n",
        "    pattern = r'^[A-Za-z]{2,}\\s\\d{3}$'\n",
        "    return re.match(pattern, course_code, re.IGNORECASE) is not None"
      ]
    },
    {
      "cell_type": "code",
      "execution_count": 6,
      "metadata": {
        "colab": {
          "base_uri": "https://localhost:8080/"
        },
        "id": "UVWV4l5Pmvrg",
        "outputId": "e821ac2d-f9f9-4873-e57a-31f663cd5e4f"
      },
      "outputs": [
        {
          "name": "stdout",
          "output_type": "stream",
          "text": [
            "AMATH 250\n",
            "https://ucalendar.uwaterloo.ca/1920/COURSE/course-AMATH.html#AMATH250\n",
            "MATH 237\n",
            "https://ucalendar.uwaterloo.ca/1920/COURSE/course-MATH.html#MATH237\n",
            "MATH 247\n",
            "https://ucalendar.uwaterloo.ca/1920/COURSE/course-MATH.html#MATH247\n",
            "AMATH 231\n",
            "https://ucalendar.uwaterloo.ca/1920/COURSE/course-AMATH.html#AMATH231\n",
            "AMATH 242\n",
            "https://ucalendar.uwaterloo.ca/1920/COURSE/course-AMATH.html#AMATH242\n",
            "CS 371\n",
            "https://ucalendar.uwaterloo.ca/1920/COURSE/course-CS.html#CS371\n",
            "AMATH 251\n",
            "https://ucalendar.uwaterloo.ca/1920/COURSE/course-AMATH.html#AMATH251\n",
            "AMATH 332\n",
            "https://ucalendar.uwaterloo.ca/1920/COURSE/course-AMATH.html#AMATH332\n",
            "PMATH 332\n",
            "https://ucalendar.uwaterloo.ca/1920/COURSE/course-PMATH.html#PMATH332\n",
            "AMATH 351\n",
            "https://ucalendar.uwaterloo.ca/1920/COURSE/course-AMATH.html#AMATH351\n",
            "AMATH 353\n",
            "https://ucalendar.uwaterloo.ca/1920/COURSE/course-AMATH.html#AMATH353\n",
            "PHYS 121\n",
            "https://ucalendar.uwaterloo.ca/1920/COURSE/course-PHYS.html#PHYS121\n",
            "AMATH 331\n",
            "https://ucalendar.uwaterloo.ca/1920/COURSE/course-AMATH.html#AMATH331\n",
            "PMATH 331\n",
            "https://ucalendar.uwaterloo.ca/1920/COURSE/course-PMATH.html#PMATH331\n"
          ]
        }
      ],
      "source": [
        "# Get all the course names from choice1\n",
        "\n",
        "# Setup BeautifulSoup\n",
        "choice1_page = requests.get(choice1_url)\n",
        "choice1_soup = BeautifulSoup(choice1_page.text, 'html')\n",
        "choice1_courses = choice1_soup.find_all('a')\n",
        "\n",
        "# Filter out invalid courses\n",
        "tmp = []\n",
        "for course in choice1_courses:\n",
        "  if is_valid_course(course.get_text()):\n",
        "    tmp.append(course)\n",
        "choice1_courses = tmp\n",
        "\n",
        "for name in choice1_courses:\n",
        "  print(name.get_text())\n",
        "  print(name.get('href'))"
      ]
    },
    {
      "cell_type": "code",
      "execution_count": 7,
      "metadata": {
        "colab": {
          "base_uri": "https://localhost:8080/"
        },
        "id": "L7rYTU89cQNx",
        "outputId": "e33a0234-ed25-4eb2-e3f6-a09e8e7f88ee"
      },
      "outputs": [
        {
          "name": "stdout",
          "output_type": "stream",
          "text": [
            "AMATH 250\n",
            "https://ucalendar.uwaterloo.ca/1920/COURSE/course-AMATH.html#AMATH250\n",
            "MATH 237\n",
            "https://ucalendar.uwaterloo.ca/1920/COURSE/course-MATH.html#MATH237\n",
            "MATH 247\n",
            "https://ucalendar.uwaterloo.ca/1920/COURSE/course-MATH.html#MATH247\n",
            "AMATH 231\n",
            "https://ucalendar.uwaterloo.ca/1920/COURSE/course-AMATH.html#AMATH231\n",
            "AMATH 242\n",
            "https://ucalendar.uwaterloo.ca/1920/COURSE/course-AMATH.html#AMATH242\n",
            "CS 371\n",
            "https://ucalendar.uwaterloo.ca/1920/COURSE/course-CS.html#CS371\n",
            "AMATH 251\n",
            "https://ucalendar.uwaterloo.ca/1920/COURSE/course-AMATH.html#AMATH251\n",
            "AMATH 271\n",
            "https://ucalendar.uwaterloo.ca/1920/COURSE/course-AMATH.html#AMATH271\n",
            "AMATH 331\n",
            "https://ucalendar.uwaterloo.ca/1920/COURSE/course-AMATH.html#AMATH331\n",
            "PMATH 331\n",
            "https://ucalendar.uwaterloo.ca/1920/COURSE/course-PMATH.html#PMATH331\n",
            "AMATH 332\n",
            "https://ucalendar.uwaterloo.ca/1920/COURSE/course-AMATH.html#AMATH332\n",
            "PMATH 332\n",
            "https://ucalendar.uwaterloo.ca/1920/COURSE/course-PMATH.html#PMATH332\n",
            "AMATH 351\n",
            "https://ucalendar.uwaterloo.ca/1920/COURSE/course-AMATH.html#AMATH351\n",
            "AMATH 353\n",
            "https://ucalendar.uwaterloo.ca/1920/COURSE/course-AMATH.html#AMATH353\n",
            "AMATH 361\n",
            "https://ucalendar.uwaterloo.ca/1920/COURSE/course-AMATH.html#AMATH361\n",
            "AMATH 373\n",
            "https://ucalendar.uwaterloo.ca/1920/COURSE/course-AMATH.html#AMATH373\n",
            "AMATH 473\n",
            "https://ucalendar.uwaterloo.ca/1920/COURSE/course-AMATH.html#AMATH473\n",
            "PHYS 454\n",
            "https://ucalendar.uwaterloo.ca/1920/COURSE/course-PHYS.html#PHYS454\n",
            "AMATH 475\n",
            "https://ucalendar.uwaterloo.ca/1920/COURSE/course-AMATH.html#AMATH475\n",
            "PHYS 476\n",
            "https://ucalendar.uwaterloo.ca/1920/COURSE/course-PHYS.html#PHYS476\n",
            "PHYS 121\n",
            "https://ucalendar.uwaterloo.ca/1920/COURSE/course-PHYS.html#PHYS121\n",
            "PHYS 122\n",
            "https://ucalendar.uwaterloo.ca/1920/COURSE/course-PHYS.html#PHYS122\n",
            "PHYS 234\n",
            "https://ucalendar.uwaterloo.ca/1920/COURSE/course-PHYS.html#PHYS234\n",
            "PHYS 242\n",
            "https://ucalendar.uwaterloo.ca/1920/COURSE/course-PHYS.html#PHYS242\n",
            "PHYS 342\n",
            "https://ucalendar.uwaterloo.ca/1920/COURSE/course-PHYS.html#PHYS342\n",
            "PHYS 358\n",
            "https://ucalendar.uwaterloo.ca/1920/COURSE/course-PHYS.html#PHYS358\n",
            "ECE 403\n",
            "https://ucalendar.uwaterloo.ca/1920/COURSE/course-ECE.html#ECE403\n",
            "PHYS 359\n",
            "https://ucalendar.uwaterloo.ca/1920/COURSE/course-PHYS.html#PHYS359\n",
            "PHYS 363\n",
            "https://ucalendar.uwaterloo.ca/1920/COURSE/course-PHYS.html#PHYS363\n"
          ]
        }
      ],
      "source": [
        "# Get all the course names from choice2\n",
        "\n",
        "# Setup BeautifulSoup\n",
        "choice2_page = requests.get(choice2_url)\n",
        "choice2_soup = BeautifulSoup(choice2_page.text, 'html')\n",
        "choice2_courses = choice2_soup.find_all('a')\n",
        "\n",
        "# Filter out invalid courses\n",
        "tmp = []\n",
        "for course in choice2_courses:\n",
        "  if is_valid_course(course.get_text()):\n",
        "    tmp.append(course)\n",
        "choice2_courses = tmp\n",
        "\n",
        "for name in choice2_courses:\n",
        "  print(name.get_text())\n",
        "  print(name.get('href'))"
      ]
    },
    {
      "cell_type": "code",
      "execution_count": null,
      "metadata": {
        "id": "Scd5cRkd81rI"
      },
      "outputs": [],
      "source": []
    }
  ],
  "metadata": {
    "colab": {
      "authorship_tag": "ABX9TyOxx+z5GYqk+pPZzwY5py7n",
      "provenance": []
    },
    "kernelspec": {
      "display_name": "Python 3",
      "name": "python3"
    },
    "language_info": {
      "codemirror_mode": {
        "name": "ipython",
        "version": 3
      },
      "file_extension": ".py",
      "mimetype": "text/x-python",
      "name": "python",
      "nbconvert_exporter": "python",
      "pygments_lexer": "ipython3",
      "version": "3.11.4"
    }
  },
  "nbformat": 4,
  "nbformat_minor": 0
}
