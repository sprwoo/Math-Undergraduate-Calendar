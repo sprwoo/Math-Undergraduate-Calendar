{
  "nbformat": 4,
  "nbformat_minor": 0,
  "metadata": {
    "colab": {
      "provenance": [],
      "authorship_tag": "ABX9TyNNc4eQU1BlTreBrzLlIwGD",
      "include_colab_link": true
    },
    "kernelspec": {
      "name": "python3",
      "display_name": "Python 3"
    },
    "language_info": {
      "name": "python"
    }
  },
  "cells": [
    {
      "cell_type": "markdown",
      "metadata": {
        "id": "view-in-github",
        "colab_type": "text"
      },
      "source": [
        "<a href=\"https://colab.research.google.com/github/sprwoo/UW-Undergrad-Calendar/blob/main/Undergrad_Calendar.ipynb\" target=\"_parent\"><img src=\"https://colab.research.google.com/assets/colab-badge.svg\" alt=\"Open In Colab\"/></a>"
      ]
    },
    {
      "cell_type": "code",
      "execution_count": 2,
      "metadata": {
        "id": "54uD6L38mhxm"
      },
      "outputs": [],
      "source": [
        "from bs4 import BeautifulSoup\n",
        "import requests\n",
        "import pandas as pd"
      ]
    },
    {
      "cell_type": "code",
      "source": [
        "url = \"https://academic-calendar-archive.uwaterloo.ca/undergraduate-studies/2022-2023/page/MATH-Combinatorics-and-Optimization2.html\"\n",
        "#url = \"https://academic-calendar-archive.uwaterloo.ca/undergraduate-studies/2022-2023/page/MATH-Pure-Mathematics1.html\"\n",
        "\n",
        "page = requests.get(url)\n",
        "\n",
        "soup = BeautifulSoup(page.text, 'html')"
      ],
      "metadata": {
        "id": "UVWV4l5Pmvrg"
      },
      "execution_count": 3,
      "outputs": []
    },
    {
      "cell_type": "code",
      "source": [
        "#print(soup)"
      ],
      "metadata": {
        "id": "dME8HJTkm-Ak"
      },
      "execution_count": 4,
      "outputs": []
    },
    {
      "cell_type": "code",
      "source": [
        "rawtxt = soup.find_all('li')"
      ],
      "metadata": {
        "id": "D4KeyZeJoEUA"
      },
      "execution_count": 5,
      "outputs": []
    },
    {
      "cell_type": "code",
      "source": [
        "#print(rawtxt)"
      ],
      "metadata": {
        "id": "2yOw89LhX6jp"
      },
      "execution_count": 6,
      "outputs": []
    },
    {
      "cell_type": "code",
      "source": [
        "urls = []\n",
        "for link in soup.find_all('a'):\n",
        "    urls.append(link.get('href'))\n",
        "print(urls)"
      ],
      "metadata": {
        "id": "ESsSI1TmaRLL",
        "colab": {
          "base_uri": "https://localhost:8080/"
        },
        "outputId": "fad65ec8-d44d-4a26-a85c-8ca9df32b9c0"
      },
      "execution_count": 11,
      "outputs": [
        {
          "output_type": "stream",
          "name": "stdout",
          "text": [
            "['http://www.uwaterloo.ca', '/', '/undergraduate-studies/2022-2023/page/uWaterloo-Undergraduate-Calendar-Access.html', '/undergraduate-studies/2022-2023/group/uWaterloo-General-Information.html', '/undergraduate-studies/2022-2023/page/uWaterloo-Calendar-Events-and-Academic-Deadlines.html', '/undergraduate-studies/2022-2023/group/uWaterloo-Admissions.html', '/undergraduate-studies/2022-2023/group/uWaterloo-Fees.html', '/undergraduate-studies/2022-2023/group/uWaterloo-Awards-and-Financial-Aid.html', '/undergraduate-studies/2022-2023/group/uWaterloo-Co-operative-Education-Career-Action.html', '/undergraduate-studies/2022-2023/group/uWaterloo-Policies-Guidelines-Academic-Regulations.html', '/undergraduate-studies/2022-2023/group/uWaterloo-Faculty-of-Arts.html', '/undergraduate-studies/2022-2023/group/uWaterloo-Faculty-of-Engineering.html', '/undergraduate-studies/2022-2023/group/uWaterloo-Faculty-of-Environment.html', '/undergraduate-studies/2022-2023/group/uWaterloo-Faculty-of-Health.html', '/undergraduate-studies/2022-2023/group/u-Waterloo-Faculty-of-Mathematics.html', '/undergraduate-studies/2022-2023/group/MATH-About-the-Faculty-of-Mathematics.html', '/undergraduate-studies/2022-2023/page/MATH-List-of-Academic-Programs-or-Plans.html', '/undergraduate-studies/2022-2023/page/MATH-Admission-Specific-Honours-Academic-Plans.html', '/undergraduate-studies/2022-2023/group/MATH-BCS-and-BMath-Academic-Plan-Combinations.html', '/undergraduate-studies/2022-2023/group/MATH-Academic-Plans-and-Requirements.html', '/undergraduate-studies/2022-2023/page/MATH-Degree-Requirements-for-Math-students.html', '/undergraduate-studies/2022-2023/group/MATH-Actuarial-Science-1.html', '/undergraduate-studies/2022-2023/group/MATH-Applied-Mathematics-1.html', '/undergraduate-studies/2022-2023/group/MATH-Combinatorics-and-Optimization1.html', '/undergraduate-studies/2022-2023/page/MATH-Comb-and-Opt-Degree-Requirements.html', '/undergraduate-studies/2022-2023/page/MATH-Combinatorics-and-Optimization2.html', '/undergraduate-studies/2022-2023/page/MATH-Joint-Combinatorics-and-Optimization1.html', '/undergraduate-studies/2022-2023/page/MATH-Combinatorics-and-Optimization-Minor2.html', '/undergraduate-studies/2022-2023/group/MATH-Computational-Mathematics-1.html', '/undergraduate-studies/2022-2023/group/MATH-Computer-Science-1.html', '/undergraduate-studies/2022-2023/group/MATH-Computing-and-Financial-Management.html', '/undergraduate-studies/2022-2023/group/MATH-Mathematics-or-Business.html', '/undergraduate-studies/2022-2023/group/MATH-Mathematical-Optimization1.html', '/undergraduate-studies/2022-2023/group/MATH-Mathematical-Studies-1.html', '/undergraduate-studies/2022-2023/group/MATH-Mathematics-or-Teaching.html', '/undergraduate-studies/2022-2023/group/MATH-Plans-for-Students-outside-Mathematics-Fac.html', '/undergraduate-studies/2022-2023/group/MATH-Pure-Mathematics-1.html', '/undergraduate-studies/2022-2023/page/MATH-Software-Engineering.html', '/undergraduate-studies/2022-2023/group/MATH-Statistics-1.html', '/undergraduate-studies/2022-2023/group/MATH-Faculty-Policies.html', '/undergraduate-studies/2022-2023/group/Courses-Faculty-of-Mathematics.html', '/undergraduate-studies/2022-2023/page/Course-Descriptions-Index.html', '/undergraduate-studies/2022-2023/group/uWaterloo-Faculty-of-Science.html', '/undergraduate-studies/2022-2023/group/uWaterloo-Social-Work.html', '/undergraduate-studies/2022-2023/group/uWaterloo-Minors-Options-Diplomas-Certificates.html', '/undergraduate-studies/2022-2023/page/Course-Descriptions-Index.html', '/undergraduate-studies/2022-2023/group/uWaterloo-Amendments.html', '/undergraduate-studies/2022-2023/page/MATH-Degree-Requirements-for-Math-students.html#Table%20I', '/undergraduate-studies/2022-2023/page/MATH-Degree-Requirements-for-Math-students.html#Table%20II', 'https://ucalendar.uwaterloo.ca/2223/COURSE/course-MATH.html#MATH239', 'https://ucalendar.uwaterloo.ca/2223/COURSE/course-MATH.html#MATH249', 'https://ucalendar.uwaterloo.ca/2223/COURSE/course-CO.html#CO250', 'https://ucalendar.uwaterloo.ca/2223/COURSE/course-CO.html#CO255', 'https://ucalendar.uwaterloo.ca/2223/COURSE/course-CO.html#CO330', 'https://ucalendar.uwaterloo.ca/2223/COURSE/course-CO.html#CO342', 'https://ucalendar.uwaterloo.ca/2223/COURSE/course-CO.html#CO351', 'https://ucalendar.uwaterloo.ca/2223/COURSE/course-CO.html#CO353', 'https://ucalendar.uwaterloo.ca/2223/COURSE/course-CO.html#CO367', 'https://ucalendar.uwaterloo.ca/2223/COURSE/course-CO.html#CO255', 'https://ucalendar.uwaterloo.ca/2223/COURSE/course-CO.html#CO450', 'https://ucalendar.uwaterloo.ca/2223/COURSE/course-CO.html#CO471', 'https://ucalendar.uwaterloo.ca/2223/COURSE/course-CO.html#CO330', 'https://ucalendar.uwaterloo.ca/2223/COURSE/course-CO.html#CO331', 'https://ucalendar.uwaterloo.ca/2223/COURSE/course-CO.html#CO342', 'https://ucalendar.uwaterloo.ca/2223/COURSE/course-CO.html#CO351', 'https://ucalendar.uwaterloo.ca/2223/COURSE/course-CO.html#CO353', 'https://ucalendar.uwaterloo.ca/2223/COURSE/course-CO.html#CO367', 'https://ucalendar.uwaterloo.ca/2223/COURSE/course-CO.html#CO430', 'https://ucalendar.uwaterloo.ca/2223/COURSE/course-CO.html#CO487', 'https://ucalendar.uwaterloo.ca/2223/COURSE/course-CO.html#CO480', 'https://ucalendar.uwaterloo.ca/2223/COURSE/course-PMATH.html#PMATH336', 'https://ucalendar.uwaterloo.ca/2223/COURSE/course-PMATH.html#PMATH347', 'https://ucalendar.uwaterloo.ca/2223/COURSE/course-MATH.html#MATH237', 'https://ucalendar.uwaterloo.ca/2223/COURSE/course-MATH.html#MATH247', 'https://ucalendar.uwaterloo.ca/2223/COURSE/course-AMATH.html#AMATH331', 'https://ucalendar.uwaterloo.ca/2223/COURSE/course-PMATH.html#PMATH331', 'https://ucalendar.uwaterloo.ca/2223/COURSE/course-PMATH.html#PMATH333', 'https://ucalendar.uwaterloo.ca/2223/COURSE/course-AMATH.html#AMATH332', 'https://ucalendar.uwaterloo.ca/2223/COURSE/course-PMATH.html#PMATH332', 'https://ucalendar.uwaterloo.ca/2223/COURSE/course-CS.html#CS462', 'https://ucalendar.uwaterloo.ca/2223/COURSE/course-CS.html#CS466', 'https://ucalendar.uwaterloo.ca/2223/COURSE/course-CS.html#CS487', 'https://ucalendar.uwaterloo.ca/2223/COURSE/course-PMATH.html#PMATH334', 'https://ucalendar.uwaterloo.ca/2223/COURSE/course-PMATH.html#PMATH348', 'https://ucalendar.uwaterloo.ca/2223/COURSE/course-PMATH.html#PMATH340']\n"
          ]
        }
      ]
    },
    {
      "cell_type": "code",
      "source": [
        "uwlinks = []\n",
        "for url in urls:\n",
        "  if \"https://ucalendar.uwaterloo.ca/2223/\" in url:\n",
        "    uwlinks.append(url)\n",
        "print(uwlinks)"
      ],
      "metadata": {
        "colab": {
          "base_uri": "https://localhost:8080/"
        },
        "id": "L83lmgZvbz_W",
        "outputId": "c0f97c49-7c57-429e-9d17-df0207d20c78"
      },
      "execution_count": 18,
      "outputs": [
        {
          "output_type": "stream",
          "name": "stdout",
          "text": [
            "['https://ucalendar.uwaterloo.ca/2223/COURSE/course-MATH.html#MATH239', 'https://ucalendar.uwaterloo.ca/2223/COURSE/course-MATH.html#MATH249', 'https://ucalendar.uwaterloo.ca/2223/COURSE/course-CO.html#CO250', 'https://ucalendar.uwaterloo.ca/2223/COURSE/course-CO.html#CO255', 'https://ucalendar.uwaterloo.ca/2223/COURSE/course-CO.html#CO330', 'https://ucalendar.uwaterloo.ca/2223/COURSE/course-CO.html#CO342', 'https://ucalendar.uwaterloo.ca/2223/COURSE/course-CO.html#CO351', 'https://ucalendar.uwaterloo.ca/2223/COURSE/course-CO.html#CO353', 'https://ucalendar.uwaterloo.ca/2223/COURSE/course-CO.html#CO367', 'https://ucalendar.uwaterloo.ca/2223/COURSE/course-CO.html#CO255', 'https://ucalendar.uwaterloo.ca/2223/COURSE/course-CO.html#CO450', 'https://ucalendar.uwaterloo.ca/2223/COURSE/course-CO.html#CO471', 'https://ucalendar.uwaterloo.ca/2223/COURSE/course-CO.html#CO330', 'https://ucalendar.uwaterloo.ca/2223/COURSE/course-CO.html#CO331', 'https://ucalendar.uwaterloo.ca/2223/COURSE/course-CO.html#CO342', 'https://ucalendar.uwaterloo.ca/2223/COURSE/course-CO.html#CO351', 'https://ucalendar.uwaterloo.ca/2223/COURSE/course-CO.html#CO353', 'https://ucalendar.uwaterloo.ca/2223/COURSE/course-CO.html#CO367', 'https://ucalendar.uwaterloo.ca/2223/COURSE/course-CO.html#CO430', 'https://ucalendar.uwaterloo.ca/2223/COURSE/course-CO.html#CO487', 'https://ucalendar.uwaterloo.ca/2223/COURSE/course-CO.html#CO480', 'https://ucalendar.uwaterloo.ca/2223/COURSE/course-PMATH.html#PMATH336', 'https://ucalendar.uwaterloo.ca/2223/COURSE/course-PMATH.html#PMATH347', 'https://ucalendar.uwaterloo.ca/2223/COURSE/course-MATH.html#MATH237', 'https://ucalendar.uwaterloo.ca/2223/COURSE/course-MATH.html#MATH247', 'https://ucalendar.uwaterloo.ca/2223/COURSE/course-AMATH.html#AMATH331', 'https://ucalendar.uwaterloo.ca/2223/COURSE/course-PMATH.html#PMATH331', 'https://ucalendar.uwaterloo.ca/2223/COURSE/course-PMATH.html#PMATH333', 'https://ucalendar.uwaterloo.ca/2223/COURSE/course-AMATH.html#AMATH332', 'https://ucalendar.uwaterloo.ca/2223/COURSE/course-PMATH.html#PMATH332', 'https://ucalendar.uwaterloo.ca/2223/COURSE/course-CS.html#CS462', 'https://ucalendar.uwaterloo.ca/2223/COURSE/course-CS.html#CS466', 'https://ucalendar.uwaterloo.ca/2223/COURSE/course-CS.html#CS487', 'https://ucalendar.uwaterloo.ca/2223/COURSE/course-PMATH.html#PMATH334', 'https://ucalendar.uwaterloo.ca/2223/COURSE/course-PMATH.html#PMATH348', 'https://ucalendar.uwaterloo.ca/2223/COURSE/course-PMATH.html#PMATH340']\n"
          ]
        }
      ]
    },
    {
      "cell_type": "code",
      "source": [
        "courses = []\n",
        "for links in uwlinks:\n",
        "  courses.append(links[links.index(\"#\") + 1:])\n",
        "print(courses)"
      ],
      "metadata": {
        "id": "d8cNqwPgyYl6",
        "colab": {
          "base_uri": "https://localhost:8080/"
        },
        "outputId": "80f5f2bf-fe11-4228-fe4b-3802582e86d9"
      },
      "execution_count": 23,
      "outputs": [
        {
          "output_type": "stream",
          "name": "stdout",
          "text": [
            "['MATH239', 'MATH249', 'CO250', 'CO255', 'CO330', 'CO342', 'CO351', 'CO353', 'CO367', 'CO255', 'CO450', 'CO471', 'CO330', 'CO331', 'CO342', 'CO351', 'CO353', 'CO367', 'CO430', 'CO487', 'CO480', 'PMATH336', 'PMATH347', 'MATH237', 'MATH247', 'AMATH331', 'PMATH331', 'PMATH333', 'AMATH332', 'PMATH332', 'CS462', 'CS466', 'CS487', 'PMATH334', 'PMATH348', 'PMATH340']\n"
          ]
        }
      ]
    },
    {
      "cell_type": "code",
      "source": [
        "courseflow = []\n",
        "for course in courses:\n",
        "  courseflow.append(\"https://uwflow.com/course/\"+course)\n",
        "print(courseflow)"
      ],
      "metadata": {
        "colab": {
          "base_uri": "https://localhost:8080/"
        },
        "id": "7omKxeD2EAj-",
        "outputId": "fa0680e9-95ed-4c91-de45-c16a649930f4"
      },
      "execution_count": 24,
      "outputs": [
        {
          "output_type": "stream",
          "name": "stdout",
          "text": [
            "['https://uwflow.com/course/MATH239', 'https://uwflow.com/course/MATH249', 'https://uwflow.com/course/CO250', 'https://uwflow.com/course/CO255', 'https://uwflow.com/course/CO330', 'https://uwflow.com/course/CO342', 'https://uwflow.com/course/CO351', 'https://uwflow.com/course/CO353', 'https://uwflow.com/course/CO367', 'https://uwflow.com/course/CO255', 'https://uwflow.com/course/CO450', 'https://uwflow.com/course/CO471', 'https://uwflow.com/course/CO330', 'https://uwflow.com/course/CO331', 'https://uwflow.com/course/CO342', 'https://uwflow.com/course/CO351', 'https://uwflow.com/course/CO353', 'https://uwflow.com/course/CO367', 'https://uwflow.com/course/CO430', 'https://uwflow.com/course/CO487', 'https://uwflow.com/course/CO480', 'https://uwflow.com/course/PMATH336', 'https://uwflow.com/course/PMATH347', 'https://uwflow.com/course/MATH237', 'https://uwflow.com/course/MATH247', 'https://uwflow.com/course/AMATH331', 'https://uwflow.com/course/PMATH331', 'https://uwflow.com/course/PMATH333', 'https://uwflow.com/course/AMATH332', 'https://uwflow.com/course/PMATH332', 'https://uwflow.com/course/CS462', 'https://uwflow.com/course/CS466', 'https://uwflow.com/course/CS487', 'https://uwflow.com/course/PMATH334', 'https://uwflow.com/course/PMATH348', 'https://uwflow.com/course/PMATH340']\n"
          ]
        }
      ]
    },
    {
      "cell_type": "code",
      "source": [
        "data = {\n",
        "    \"Course\" : courses,\n",
        "    \"UW Flow\" : courseflow,\n",
        "    \"Link\" : uwlinks\n",
        "}\n",
        "\n",
        "df = pd.DataFrame(data)\n",
        "print(df)"
      ],
      "metadata": {
        "colab": {
          "base_uri": "https://localhost:8080/"
        },
        "id": "keK5MQgjE9aD",
        "outputId": "8c78c2b2-4a5a-4c50-8ab0-a8bfb1f75f27"
      },
      "execution_count": 26,
      "outputs": [
        {
          "output_type": "stream",
          "name": "stdout",
          "text": [
            "      Course                             UW Flow  \\\n",
            "0    MATH239   https://uwflow.com/course/MATH239   \n",
            "1    MATH249   https://uwflow.com/course/MATH249   \n",
            "2      CO250     https://uwflow.com/course/CO250   \n",
            "3      CO255     https://uwflow.com/course/CO255   \n",
            "4      CO330     https://uwflow.com/course/CO330   \n",
            "5      CO342     https://uwflow.com/course/CO342   \n",
            "6      CO351     https://uwflow.com/course/CO351   \n",
            "7      CO353     https://uwflow.com/course/CO353   \n",
            "8      CO367     https://uwflow.com/course/CO367   \n",
            "9      CO255     https://uwflow.com/course/CO255   \n",
            "10     CO450     https://uwflow.com/course/CO450   \n",
            "11     CO471     https://uwflow.com/course/CO471   \n",
            "12     CO330     https://uwflow.com/course/CO330   \n",
            "13     CO331     https://uwflow.com/course/CO331   \n",
            "14     CO342     https://uwflow.com/course/CO342   \n",
            "15     CO351     https://uwflow.com/course/CO351   \n",
            "16     CO353     https://uwflow.com/course/CO353   \n",
            "17     CO367     https://uwflow.com/course/CO367   \n",
            "18     CO430     https://uwflow.com/course/CO430   \n",
            "19     CO487     https://uwflow.com/course/CO487   \n",
            "20     CO480     https://uwflow.com/course/CO480   \n",
            "21  PMATH336  https://uwflow.com/course/PMATH336   \n",
            "22  PMATH347  https://uwflow.com/course/PMATH347   \n",
            "23   MATH237   https://uwflow.com/course/MATH237   \n",
            "24   MATH247   https://uwflow.com/course/MATH247   \n",
            "25  AMATH331  https://uwflow.com/course/AMATH331   \n",
            "26  PMATH331  https://uwflow.com/course/PMATH331   \n",
            "27  PMATH333  https://uwflow.com/course/PMATH333   \n",
            "28  AMATH332  https://uwflow.com/course/AMATH332   \n",
            "29  PMATH332  https://uwflow.com/course/PMATH332   \n",
            "30     CS462     https://uwflow.com/course/CS462   \n",
            "31     CS466     https://uwflow.com/course/CS466   \n",
            "32     CS487     https://uwflow.com/course/CS487   \n",
            "33  PMATH334  https://uwflow.com/course/PMATH334   \n",
            "34  PMATH348  https://uwflow.com/course/PMATH348   \n",
            "35  PMATH340  https://uwflow.com/course/PMATH340   \n",
            "\n",
            "                                                 Link  \n",
            "0   https://ucalendar.uwaterloo.ca/2223/COURSE/cou...  \n",
            "1   https://ucalendar.uwaterloo.ca/2223/COURSE/cou...  \n",
            "2   https://ucalendar.uwaterloo.ca/2223/COURSE/cou...  \n",
            "3   https://ucalendar.uwaterloo.ca/2223/COURSE/cou...  \n",
            "4   https://ucalendar.uwaterloo.ca/2223/COURSE/cou...  \n",
            "5   https://ucalendar.uwaterloo.ca/2223/COURSE/cou...  \n",
            "6   https://ucalendar.uwaterloo.ca/2223/COURSE/cou...  \n",
            "7   https://ucalendar.uwaterloo.ca/2223/COURSE/cou...  \n",
            "8   https://ucalendar.uwaterloo.ca/2223/COURSE/cou...  \n",
            "9   https://ucalendar.uwaterloo.ca/2223/COURSE/cou...  \n",
            "10  https://ucalendar.uwaterloo.ca/2223/COURSE/cou...  \n",
            "11  https://ucalendar.uwaterloo.ca/2223/COURSE/cou...  \n",
            "12  https://ucalendar.uwaterloo.ca/2223/COURSE/cou...  \n",
            "13  https://ucalendar.uwaterloo.ca/2223/COURSE/cou...  \n",
            "14  https://ucalendar.uwaterloo.ca/2223/COURSE/cou...  \n",
            "15  https://ucalendar.uwaterloo.ca/2223/COURSE/cou...  \n",
            "16  https://ucalendar.uwaterloo.ca/2223/COURSE/cou...  \n",
            "17  https://ucalendar.uwaterloo.ca/2223/COURSE/cou...  \n",
            "18  https://ucalendar.uwaterloo.ca/2223/COURSE/cou...  \n",
            "19  https://ucalendar.uwaterloo.ca/2223/COURSE/cou...  \n",
            "20  https://ucalendar.uwaterloo.ca/2223/COURSE/cou...  \n",
            "21  https://ucalendar.uwaterloo.ca/2223/COURSE/cou...  \n",
            "22  https://ucalendar.uwaterloo.ca/2223/COURSE/cou...  \n",
            "23  https://ucalendar.uwaterloo.ca/2223/COURSE/cou...  \n",
            "24  https://ucalendar.uwaterloo.ca/2223/COURSE/cou...  \n",
            "25  https://ucalendar.uwaterloo.ca/2223/COURSE/cou...  \n",
            "26  https://ucalendar.uwaterloo.ca/2223/COURSE/cou...  \n",
            "27  https://ucalendar.uwaterloo.ca/2223/COURSE/cou...  \n",
            "28  https://ucalendar.uwaterloo.ca/2223/COURSE/cou...  \n",
            "29  https://ucalendar.uwaterloo.ca/2223/COURSE/cou...  \n",
            "30  https://ucalendar.uwaterloo.ca/2223/COURSE/cou...  \n",
            "31  https://ucalendar.uwaterloo.ca/2223/COURSE/cou...  \n",
            "32  https://ucalendar.uwaterloo.ca/2223/COURSE/cou...  \n",
            "33  https://ucalendar.uwaterloo.ca/2223/COURSE/cou...  \n",
            "34  https://ucalendar.uwaterloo.ca/2223/COURSE/cou...  \n",
            "35  https://ucalendar.uwaterloo.ca/2223/COURSE/cou...  \n"
          ]
        }
      ]
    }
  ]
}