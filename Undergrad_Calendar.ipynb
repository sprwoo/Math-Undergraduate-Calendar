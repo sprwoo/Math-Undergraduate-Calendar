{
  "nbformat": 4,
  "nbformat_minor": 0,
  "metadata": {
    "colab": {
      "provenance": [],
      "authorship_tag": "ABX9TyMEjGJQpfL5JsxXDA0WW8Xi"
    },
    "kernelspec": {
      "name": "python3",
      "display_name": "Python 3"
    },
    "language_info": {
      "name": "python"
    }
  },
  "cells": [
    {
      "cell_type": "code",
      "execution_count": null,
      "metadata": {
        "id": "54uD6L38mhxm"
      },
      "outputs": [],
      "source": [
        "from bs4 import BeautifulSoup\n",
        "import requests"
      ]
    },
    {
      "cell_type": "code",
      "source": [
        "url = \"https://academic-calendar-archive.uwaterloo.ca/undergraduate-studies/2022-2023/page/MATH-Combinatorics-and-Optimization2.html\"\n",
        "#url = \"https://academic-calendar-archive.uwaterloo.ca/undergraduate-studies/2022-2023/page/MATH-Pure-Mathematics1.html\"\n",
        "\n",
        "page = requests.get(url)\n",
        "\n",
        "soup = BeautifulSoup(page.text, 'html')"
      ],
      "metadata": {
        "id": "UVWV4l5Pmvrg"
      },
      "execution_count": null,
      "outputs": []
    },
    {
      "cell_type": "code",
      "source": [
        "print(soup)"
      ],
      "metadata": {
        "id": "dME8HJTkm-Ak"
      },
      "execution_count": null,
      "outputs": []
    },
    {
      "cell_type": "code",
      "source": [
        "rawtxt = soup.find_all('li')"
      ],
      "metadata": {
        "id": "D4KeyZeJoEUA"
      },
      "execution_count": null,
      "outputs": []
    },
    {
      "cell_type": "code",
      "source": [
        "txt = [x.text for x in rawtxt]\n",
        "for i, element in enumerate(txt):\n",
        "  if element == \"Amendments\":\n",
        "    del txt[:i+1]\n",
        "    break"
      ],
      "metadata": {
        "id": "qH078WMnpAO2"
      },
      "execution_count": null,
      "outputs": []
    },
    {
      "cell_type": "code",
      "source": [
        "print(txt)"
      ],
      "metadata": {
        "colab": {
          "base_uri": "https://localhost:8080/"
        },
        "id": "VNMEnly6xAGg",
        "outputId": "d3dfcb8a-da05-4d57-8671-d2ad4bcccdb0"
      },
      "execution_count": null,
      "outputs": [
        {
          "output_type": "stream",
          "name": "stdout",
          "text": [
            "['One of\\r\\n    \\nMATH 239 Introduction to Combinatorics \\nMATH 249 Introduction to Combinatorics (Advanced Level) \\n\\n', 'MATH 239 Introduction to Combinatorics ', 'MATH 249 Introduction to Combinatorics (Advanced Level) ', 'One of\\r\\n    \\nCO 250 Introduction to Optimization \\nCO 255 Introduction to Optimization (Advanced Level) \\n\\n', 'CO 250 Introduction to Optimization ', 'CO 255 Introduction to Optimization (Advanced Level) ', 'One of\\r\\n    \\nCO 330 Combinatorial Enumeration \\nCO 342 Introduction to Graph Theory \\n\\n', 'CO 330 Combinatorial Enumeration ', 'CO 342 Introduction to Graph Theory ', 'One of\\r\\n    \\nCO 351 Network Flow Theory \\nCO 353 Computational Discrete Optimization \\nCO 367 Nonlinear Optimization \\nNote: If CO 255 is taken, this requirement can be satisfied by taking one of CO 450 to CO 471. \\n\\n', 'CO 351 Network Flow Theory ', 'CO 353 Computational Discrete Optimization ', 'CO 367 Nonlinear Optimization \\nNote: If CO 255 is taken, this requirement can be satisfied by taking one of CO 450 to CO 471. ', 'Three additional courses chosen from\\r\\n    \\nCO 330 Combinatorial Enumeration \\nCO 331 Coding Theory \\nCO 342 Introduction to Graph Theory \\nCO 351 Network Flow Theory \\nCO 353\\xa0Computational Discrete Optimization\\nCO 367 Nonlinear Optimization \\nCO 430 to CO 487, excluding CO 480\\n\\n', 'CO 330 Combinatorial Enumeration ', 'CO 331 Coding Theory ', 'CO 342 Introduction to Graph Theory ', 'CO 351 Network Flow Theory ', 'CO 353\\xa0Computational Discrete Optimization', 'CO 367 Nonlinear Optimization ', 'CO 430 to CO 487, excluding CO 480', 'All of\\r\\n    \\nPMATH 336 Introduction to Group Theory with Applications or PMATH 347 Groups and Rings\\n\\n', 'PMATH 336 Introduction to Group Theory with Applications or PMATH 347 Groups and Rings', 'Three of\\r\\n    \\nMATH 237 Calculus 3 for Honours Mathematics or MATH 247 Calculus 3 (Advanced Level)\\nAMATH 331/PMATH 331 Applied Real Analysis or PMATH 333 Introduction to Real Analysis\\nAMATH 332/PMATH 332 Applied Complex Analysis \\nCS 462 Formal Languages and Parsing \\nCS 466 Algorithm Design and Analysis \\nCS 487 Introduction to Symbolic Computation \\nPMATH 334 Introduction to Rings and Fields with Applications or PMATH 348 Fields and Galois Theory\\nPMATH 340 Elementary Number Theory \\nNote: These fourth-year CS courses are open only to Computer Science majors.\\r\\n        \\n\\n', 'MATH 237 Calculus 3 for Honours Mathematics or MATH 247 Calculus 3 (Advanced Level)', 'AMATH 331/PMATH 331 Applied Real Analysis or PMATH 333 Introduction to Real Analysis', 'AMATH 332/PMATH 332 Applied Complex Analysis ', 'CS 462 Formal Languages and Parsing ', 'CS 466 Algorithm Design and Analysis ', 'CS 487 Introduction to Symbolic Computation ', 'PMATH 334 Introduction to Rings and Fields with Applications or PMATH 348 Fields and Galois Theory', 'PMATH 340 Elementary Number Theory \\nNote: These fourth-year CS courses are open only to Computer Science majors.\\r\\n        ', 'Two additional 300- or 400-level math courses with a subject code other than CO', 'One additional 300- or 400-level math course', 'Three additional math courses']\n"
          ]
        }
      ]
    },
    {
      "cell_type": "code",
      "source": [],
      "metadata": {
        "id": "d8cNqwPgyYl6"
      },
      "execution_count": null,
      "outputs": []
    }
  ]
}